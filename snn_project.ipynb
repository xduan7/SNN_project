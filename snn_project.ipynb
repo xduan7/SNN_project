{
 "cells": [
  {
   "cell_type": "code",
   "execution_count": 3,
   "metadata": {
    "collapsed": true,
    "pycharm": {
     "is_executing": false
    }
   },
   "outputs": [
    {
     "name": "stderr",
     "text": [
      "\r0it [00:00, ?it/s]",
      "\r  0%|          | 0/9912422 [00:00<?, ?it/s]",
      "\r  1%|          | 57344/9912422 [00:00<00:18, 523099.84it/s]",
      "\r  3%|▎         | 294912/9912422 [00:00<00:14, 672144.93it/s]",
      "\r  6%|▌         | 589824/9912422 [00:00<00:10, 866932.36it/s]",
      "\r 10%|▉         | 942080/9912422 [00:00<00:08, 1118420.52it/s]",
      "\r 13%|█▎        | 1286144/9912422 [00:00<00:06, 1402065.92it/s]",
      "\r 17%|█▋        | 1671168/9912422 [00:00<00:04, 1699464.24it/s]",
      "\r 22%|██▏       | 2146304/9912422 [00:00<00:03, 2093346.30it/s]",
      "\r 26%|██▌       | 2596864/9912422 [00:01<00:02, 2481284.13it/s]",
      "\r 32%|███▏      | 3211264/9912422 [00:01<00:02, 3015851.78it/s]",
      "\r 37%|███▋      | 3645440/9912422 [00:01<00:01, 3297647.42it/s]",
      "\r 41%|████▏     | 4104192/9912422 [00:01<00:01, 3579180.53it/s]",
      "\r 47%|████▋     | 4628480/9912422 [00:01<00:01, 3946763.62it/s]",
      "\r 52%|█████▏    | 5152768/9912422 [00:01<00:01, 4260030.21it/s]",
      "\r 57%|█████▋    | 5652480/9912422 [00:01<00:00, 4444653.69it/s]",
      "\r 63%|██████▎   | 6201344/9912422 [00:01<00:00, 4605541.75it/s]",
      "\r 68%|██████▊   | 6782976/9912422 [00:01<00:00, 4743622.39it/s]",
      "\r 74%|███████▍  | 7356416/9912422 [00:01<00:00, 4973382.20it/s]",
      "\r 79%|███████▉  | 7872512/9912422 [00:02<00:00, 4769177.32it/s]",
      "\r 85%|████████▌ | 8445952/9912422 [00:02<00:00, 4679266.62it/s]",
      "\r 91%|█████████▏| 9052160/9912422 [00:02<00:00, 5015116.79it/s]",
      "\r 97%|█████████▋| 9568256/9912422 [00:02<00:00, 4359987.19it/s]",
      "\r9920512it [00:02, 3993653.79it/s]                             ",
      "\n",
      "\r0it [00:00, ?it/s]",
      "\r 57%|█████▋    | 16384/28881 [00:00<00:00, 153712.84it/s]",
      "\r32768it [00:00, 303643.92it/s]                           ",
      "\n\r0it [00:00, ?it/s]",
      "\r  1%|          | 16384/1648877 [00:00<00:12, 132253.81it/s]",
      "\r  7%|▋         | 114688/1648877 [00:00<00:08, 178604.90it/s]",
      "\r 18%|█▊        | 303104/1648877 [00:00<00:05, 244783.34it/s]",
      "\r 32%|███▏      | 524288/1648877 [00:00<00:03, 332739.70it/s]",
      "\r 47%|████▋     | 778240/1648877 [00:00<00:01, 448718.21it/s]",
      "\r 65%|██████▍   | 1064960/1648877 [00:00<00:00, 598914.10it/s]",
      "\r 84%|████████▍ | 1392640/1648877 [00:00<00:00, 782436.98it/s]",
      "\r1654784it [00:00, 1952963.75it/s]                            ",
      "\n\r0it [00:00, ?it/s]",
      "\r8192it [00:00, 125193.98it/s]",
      "\n"
     ],
     "output_type": "stream"
    },
    {
     "name": "stdout",
     "text": [
      "Downloading http://yann.lecun.com/exdb/mnist/train-images-idx3-ubyte.gz to ../../data/MNIST/TorchvisionDatasetWrapper/raw/train-images-idx3-ubyte.gz\n",
      "Extracting ../../data/MNIST/TorchvisionDatasetWrapper/raw/train-images-idx3-ubyte.gz\n",
      "Downloading http://yann.lecun.com/exdb/mnist/train-labels-idx1-ubyte.gz to ../../data/MNIST/TorchvisionDatasetWrapper/raw/train-labels-idx1-ubyte.gz\nExtracting ../../data/MNIST/TorchvisionDatasetWrapper/raw/train-labels-idx1-ubyte.gz\nDownloading http://yann.lecun.com/exdb/mnist/t10k-images-idx3-ubyte.gz to ../../data/MNIST/TorchvisionDatasetWrapper/raw/t10k-images-idx3-ubyte.gz\n",
      "Extracting ../../data/MNIST/TorchvisionDatasetWrapper/raw/t10k-images-idx3-ubyte.gz\nDownloading http://yann.lecun.com/exdb/mnist/t10k-labels-idx1-ubyte.gz to ../../data/MNIST/TorchvisionDatasetWrapper/raw/t10k-labels-idx1-ubyte.gz\nExtracting ../../data/MNIST/TorchvisionDatasetWrapper/raw/t10k-labels-idx1-ubyte.gz\nProcessing...\nDone!\n"
     ],
     "output_type": "stream"
    }
   ],
   "source": [
    "import os\n",
    "import torch\n",
    "import numpy as np\n",
    "import argparse\n",
    "import matplotlib.pyplot as plt\n",
    "\n",
    "from torchvision import transforms\n",
    "\n",
    "from bindsnet.datasets import MNIST\n",
    "from bindsnet.encoding import PoissonEncoder\n",
    "from bindsnet.encoding import poisson_loader\n",
    "from bindsnet.models import DiehlAndCook2015\n",
    "\n",
    "\n",
    "dt = 1.\n",
    "time = 350\n",
    "intensity = .25\n",
    "\n",
    "# Load MNIST data.\n",
    "dataset = MNIST(\n",
    "    PoissonEncoder(time=time, dt=dt),\n",
    "    None,\n",
    "    root=os.path.join(\"..\", \"..\", \"data\", \"MNIST\"),\n",
    "    download=True,\n",
    "    transform=transforms.Compose(\n",
    "        [\n",
    "            transforms.ToTensor(),\n",
    "            transforms.Lambda(lambda x: x * intensity),\n",
    "            # transforms.Lambda(lambda x: x.view(784)),\n",
    "        ]\n",
    "    ),\n",
    ")\n"
   ]
  }
 ],
 "metadata": {
  "language_info": {
   "codemirror_mode": {
    "name": "ipython",
    "version": 2
   },
   "file_extension": ".py",
   "mimetype": "text/x-python",
   "name": "python",
   "nbconvert_exporter": "python",
   "pygments_lexer": "ipython2",
   "version": "2.7.6"
  },
  "kernelspec": {
   "name": "python3",
   "language": "python",
   "display_name": "Python 3"
  },
  "pycharm": {
   "stem_cell": {
    "cell_type": "raw",
    "source": [],
    "metadata": {
     "collapsed": false
    }
   }
  }
 },
 "nbformat": 4,
 "nbformat_minor": 0
}